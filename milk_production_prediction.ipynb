{
 "cells": [
  {
   "cell_type": "code",
   "execution_count": 1,
   "metadata": {},
   "outputs": [],
   "source": [
    "import pandas as pd\n",
    "import numpy as np\n",
    "import seaborn as sns\n",
    "import matplotlib.pyplot as plt \n",
    "from matplotlib.pylab import rcParams\n",
    "get_ipython().run_line_magic('matplotlib', 'inline')\n",
    "sns.set(style='white', context='notebook', palette='deep')\n",
    "import warnings\n",
    "warnings.filterwarnings('ignore')\n"
   ]
  },
  {
   "cell_type": "code",
   "execution_count": 63,
   "metadata": {},
   "outputs": [],
   "source": [
    "# Read the datasets & knowing the shape of each dataset\n",
    "alldata = pd.read_csv(\"report.csv\")\n",
    "\n",
    "submission = pd.read_csv(\"submission.csv\")"
   ]
  },
  {
   "cell_type": "code",
   "execution_count": 65,
   "metadata": {},
   "outputs": [],
   "source": [
    "##duplicates investigation\n",
    "#酪農場代號(A:桃園楊梅，B:彰化福興，C:屏東萬丹)\n",
    "report_label={1:\"ID\", 2:\"資料年度\", 3:\"資料月份\", 4:\"酪農場代號\", 5:\"乳牛編號\", 6:\"父親牛精液編號\",\n",
    "              7:\"母親乳牛編號\", 8:\"出生日期\", 9:\"胎次\", 10:\"泌乳天數\", 11:\"乳量\", 12:\"最近分娩日期\",\n",
    "              13:\"採樣日期\", 14:\"月齡\", 15:\"檢測日期\", 16:\"最後配種日期\", 17:\"最後配種精液\", 18:\"配種次數\",\n",
    "              19:\"前次分娩日期\", 20:\"第一次配種日期\", 21:\"第一次配種精液\"}\n",
    "\n",
    "\n",
    "# alldata.head()\n",
    "# report_dup=report[report[\"5\"].duplicated() ==2019 #5 = 乳牛編號\n",
    "#report_dup.sort_values(by=[\"12\"])\n",
    "# reason for duplication: multiple samples per birth"
   ]
  },
  {
   "cell_type": "code",
   "execution_count": 66,
   "metadata": {},
   "outputs": [],
   "source": [
    "#Sale price is our goal for prediction, investated as prioity\n",
    "# alldata['11'].describe()"
   ]
  },
  {
   "cell_type": "code",
   "execution_count": 67,
   "metadata": {},
   "outputs": [],
   "source": [
    "#graph\n",
    "# f, ax = plt.subplots(figsize=(10, 7.5))\n",
    "# sns.distplot(alldata['11'], rug=True)"
   ]
  },
  {
   "cell_type": "code",
   "execution_count": 68,
   "metadata": {},
   "outputs": [
    {
     "name": "stdout",
     "output_type": "stream",
     "text": [
      "(4263, 21)\n",
      "(4263,)\n"
     ]
    }
   ],
   "source": [
    "data_id = alldata[alldata['11'].isna()] #test_data is all rows with \"乳量\" column IS NaN\n",
    "print(data_id.shape)\n",
    "data_id = data_id[\"1\"] #drop \"乳量\" column\n",
    "print(data_id.shape)"
   ]
  },
  {
   "cell_type": "code",
   "execution_count": 39,
   "metadata": {},
   "outputs": [
    {
     "name": "stdout",
     "output_type": "stream",
     "text": [
      "(37517, 6)\n"
     ]
    }
   ],
   "source": [
    "##drop columns that are date or identification\n",
    "alldata = alldata.drop(alldata.columns[[0,1,2,4,5,6,7,11,12,14,15,16,18,19,20]],axis=1)\n",
    "# '5', '6', '7', '17', 21 try to leave out\n",
    "alldata = alldata.reset_index(drop=True)\n",
    "print(alldata.shape)"
   ]
  },
  {
   "cell_type": "code",
   "execution_count": 40,
   "metadata": {},
   "outputs": [
    {
     "name": "stdout",
     "output_type": "stream",
     "text": [
      "10  :  1\n",
      "11  :  4263\n"
     ]
    }
   ],
   "source": [
    "#count all missing values of each columns\n",
    "missing=[]\n",
    "for col in alldata.columns:\n",
    "    if alldata[col].isnull().sum() > 0:\n",
    "        missing.append(col)\n",
    "        print(col, \" : \", alldata[col].isnull().sum())"
   ]
  },
  {
   "cell_type": "code",
   "execution_count": 41,
   "metadata": {},
   "outputs": [],
   "source": [
    "##function to fill NaN\n",
    "\n",
    "def fill_nan(data):\n",
    "    #data['6'] = data['6'].fillna(0)\n",
    "    #data['7'] = data['7'].fillna(0)\n",
    "    data['10'] = data['10'].fillna(data['10'].mode()[0]) \n",
    "    #data['17'] = data['17'].fillna(0)\n",
    "    #data['21'] = data['21'].fillna(0)\n",
    "    return data"
   ]
  },
  {
   "cell_type": "code",
   "execution_count": 42,
   "metadata": {},
   "outputs": [],
   "source": [
    "alldata = fill_nan(alldata)"
   ]
  },
  {
   "cell_type": "code",
   "execution_count": 49,
   "metadata": {},
   "outputs": [
    {
     "name": "stdout",
     "output_type": "stream",
     "text": [
      "(37517, 8)\n",
      "(4263, 7)\n",
      "(33254, 8)\n"
     ]
    }
   ],
   "source": [
    "#one hot encoding for columns with categorical value \n",
    "alldata = pd.get_dummies(alldata)\n",
    "\n",
    "##get test data set according to NAN (4263 rows = submission row size)\n",
    "test_data = alldata[alldata['11'].isna()] #test_data is all rows with \"乳量\" column IS NaN\n",
    "test_data = test_data.drop(['11'],axis=1) #drop \"乳量\" column\n",
    "train_data = alldata.dropna(subset=['11']) #drop cell with NaN \"乳量\"\n",
    "print(alldata.shape)\n",
    "print(test_data.shape)\n",
    "print(train_data.shape)"
   ]
  },
  {
   "cell_type": "code",
   "execution_count": 45,
   "metadata": {},
   "outputs": [],
   "source": [
    "# feature scaling - normalization\n",
    "from sklearn import preprocessing\n",
    "train_data = preprocessing.normalize(train_data[['9', '10',  '14', '18']])"
   ]
  },
  {
   "cell_type": "code",
   "execution_count": 73,
   "metadata": {},
   "outputs": [],
   "source": [
    "##normalized \"乳量\" seprately because of the NaN cells --- but don't do this, it normalizes y\n",
    "#preprocessing.normalize(train_data[[ '11']])"
   ]
  },
  {
   "cell_type": "code",
   "execution_count": 50,
   "metadata": {},
   "outputs": [
    {
     "data": {
      "text/plain": [
       "(33254, 8)"
      ]
     },
     "execution_count": 50,
     "metadata": {},
     "output_type": "execute_result"
    }
   ],
   "source": [
    "train_data.shape\n",
    "#alldata.head()"
   ]
  },
  {
   "cell_type": "code",
   "execution_count": 51,
   "metadata": {},
   "outputs": [
    {
     "data": {
      "text/plain": [
       "(33254, 7)"
      ]
     },
     "execution_count": 51,
     "metadata": {},
     "output_type": "execute_result"
    }
   ],
   "source": [
    "## x_data from report file without NaN; y_data = \"乳量\"\n",
    "\n",
    "x_data = train_data.drop(['11'],axis=1) #drop \"乳量\" column for x_data\n",
    "y_data = train_data[\"11\"] #y_data = \"乳量\"\n",
    "\n",
    "#Make into machine readable numpy array\n",
    "x_data = np.array(x_data)\n",
    "y_data = np.array(y_data)\n",
    "x_data.shape"
   ]
  },
  {
   "cell_type": "code",
   "execution_count": 52,
   "metadata": {},
   "outputs": [],
   "source": [
    "##split train & validaton set\n",
    "\n",
    "from sklearn.model_selection import train_test_split\n",
    "\n",
    "x_train, x_test, y_train, y_test = train_test_split(x_data, y_data,\n",
    "                                                    test_size=0.1,\n",
    "                                                    random_state=10)"
   ]
  },
  {
   "cell_type": "code",
   "execution_count": 54,
   "metadata": {},
   "outputs": [
    {
     "name": "stdout",
     "output_type": "stream",
     "text": [
      "(29928,)\n",
      "(29928, 7)\n"
     ]
    }
   ],
   "source": [
    "print(y_train.shape)\n",
    "print(x_train.shape)"
   ]
  },
  {
   "cell_type": "code",
   "execution_count": 55,
   "metadata": {},
   "outputs": [],
   "source": [
    "#training data witg XGBoost model\n",
    "#build model\n",
    "import xgboost as xgb\n",
    "\n",
    "dtrain = xgb.DMatrix(x_train, label = y_train)\n",
    "dtest = xgb.DMatrix(x_test)\n",
    "\n",
    "params = {\"colsample_bytree\":0.4603, \"gamma\":0.0468, \n",
    "          \"learning_rate\":0.05, \"max_depth\":3, \n",
    "          \"min_child_weight\":1.7817, \"n_estimators\":2200,\n",
    "          \"reg_alpha\":0.4640, \"reg_lambda\":0.8571,\n",
    "          \"subsample\":0.5213, \"silent\":1,\n",
    "          \"nthread\":-1}\n",
    "\n",
    "model = xgb.cv(params, dtrain, num_boost_round=500, early_stopping_rounds=100)"
   ]
  },
  {
   "cell_type": "code",
   "execution_count": 56,
   "metadata": {},
   "outputs": [
    {
     "name": "stdout",
     "output_type": "stream",
     "text": [
      "[23.972408 27.461594 17.674353 ... 21.76603  19.611643 25.516203]\n"
     ]
    }
   ],
   "source": [
    "#train with model\n",
    "from sklearn import metrics\n",
    "\n",
    "xgb_f = xgb.XGBRegressor(**params) #the params were tuned using xgb.cv\n",
    "\n",
    "xgb_f.fit(x_train, y_train)\n",
    "pred= xgb_f.predict(x_test)\n",
    "print(pred)\n"
   ]
  },
  {
   "cell_type": "code",
   "execution_count": 57,
   "metadata": {},
   "outputs": [
    {
     "name": "stdout",
     "output_type": "stream",
     "text": [
      "29928\n",
      "3326\n",
      "RMSE: 6.39\n"
     ]
    }
   ],
   "source": [
    "print(y_train.size)\n",
    "print(pred.size)\n",
    "\n",
    "##see RMSE in validation set\n",
    "print(\"RMSE: %.2f\" % np.sqrt(np.mean((pred-y_test)**2)))\n",
    "print(pred.shape)"
   ]
  },
  {
   "cell_type": "code",
   "execution_count": 69,
   "metadata": {},
   "outputs": [
    {
     "name": "stdout",
     "output_type": "stream",
     "text": [
      "(4263, 7)\n",
      "(4263,)\n",
      "(4263,)\n"
     ]
    }
   ],
   "source": [
    "#use model for prediction\n",
    "test_data= np.array(test_data)\n",
    "print(test_data.shape)\n",
    "pred_test= xgb_f.predict(test_data)\n",
    "print(pred_test.shape)\n",
    "print(data_id.shape)"
   ]
  },
  {
   "cell_type": "code",
   "execution_count": 72,
   "metadata": {},
   "outputs": [],
   "source": [
    "#sub = pd.read_csv('./sample_submission.csv')\n",
    "test_submission = pd.DataFrame({'ID':data_id, '1': pred_test})\n",
    "test_submission.to_csv('./test_submission.csv', index = False)"
   ]
  },
  {
   "cell_type": "code",
   "execution_count": null,
   "metadata": {},
   "outputs": [],
   "source": []
  },
  {
   "cell_type": "code",
   "execution_count": null,
   "metadata": {},
   "outputs": [],
   "source": []
  }
 ],
 "metadata": {
  "kernelspec": {
   "display_name": "Python 3",
   "language": "python",
   "name": "python3"
  },
  "language_info": {
   "codemirror_mode": {
    "name": "ipython",
    "version": 3
   },
   "file_extension": ".py",
   "mimetype": "text/x-python",
   "name": "python",
   "nbconvert_exporter": "python",
   "pygments_lexer": "ipython3",
   "version": "3.7.3"
  }
 },
 "nbformat": 4,
 "nbformat_minor": 4
}
